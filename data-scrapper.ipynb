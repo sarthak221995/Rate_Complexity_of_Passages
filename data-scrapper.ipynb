{
 "cells": [
  {
   "cell_type": "markdown",
   "id": "unlimited-sample",
   "metadata": {
    "papermill": {
     "duration": 0.024383,
     "end_time": "2022-01-23T09:25:24.817816",
     "exception": false,
     "start_time": "2022-01-23T09:25:24.793433",
     "status": "completed"
    },
    "tags": []
   },
   "source": [
    "### Scrape URLs for CommonLit Readability Prize competition \n",
    "\n",
    "1. There contains over 600 URLs to scrape. I only scrape ~570 URLs from 3-4 separate domains. \n",
    "2. Wikipedia was the most annoying to scrape cleanly. \n",
    "3. There may be some undetected artifacts in the text so use with caution.\n",
    "3. You should perform your own exploratory data analysis to discover any remaining artifacts that occured during scraping.\n",
    "4. I created a [notebook](https://www.kaggle.com/teeyee314/readability-external-data-eda)  with additional preparation for use with competition training.\n",
    "\n",
    "You're welcome :)"
   ]
  },
  {
   "cell_type": "code",
   "execution_count": 1,
   "id": "boolean-jaguar",
   "metadata": {
    "_cell_guid": "b1076dfc-b9ad-4769-8c92-a6c4dae69d19",
    "_uuid": "8f2839f25d086af736a60e9eeb907d3b93b6e0e5",
    "execution": {
     "iopub.execute_input": "2022-01-23T09:25:24.872936Z",
     "iopub.status.busy": "2022-01-23T09:25:24.872002Z",
     "iopub.status.idle": "2022-01-23T09:25:35.601900Z",
     "shell.execute_reply": "2022-01-23T09:25:35.601107Z",
     "shell.execute_reply.started": "2022-01-23T08:58:57.737047Z"
    },
    "papermill": {
     "duration": 10.761232,
     "end_time": "2022-01-23T09:25:35.602089",
     "exception": false,
     "start_time": "2022-01-23T09:25:24.840857",
     "status": "completed"
    },
    "tags": []
   },
   "outputs": [],
   "source": [
    "!pip install -q bs4"
   ]
  },
  {
   "cell_type": "code",
   "execution_count": 2,
   "id": "conventional-charity",
   "metadata": {
    "execution": {
     "iopub.execute_input": "2022-01-23T09:25:35.654120Z",
     "iopub.status.busy": "2022-01-23T09:25:35.653428Z",
     "iopub.status.idle": "2022-01-23T09:25:36.594404Z",
     "shell.execute_reply": "2022-01-23T09:25:36.593422Z",
     "shell.execute_reply.started": "2022-01-23T08:59:09.743643Z"
    },
    "papermill": {
     "duration": 0.969374,
     "end_time": "2022-01-23T09:25:36.594596",
     "exception": false,
     "start_time": "2022-01-23T09:25:35.625222",
     "status": "completed"
    },
    "tags": []
   },
   "outputs": [
    {
     "name": "stdout",
     "output_type": "stream",
     "text": [
      "['sample_submission.csv', 'train.csv', 'test.csv']\n"
     ]
    }
   ],
   "source": [
    "import numpy as np\n",
    "import pandas as pd\n",
    "import os\n",
    "import matplotlib.pyplot as plt\n",
    "import seaborn as sns\n",
    "from bs4 import BeautifulSoup\n",
    "import requests\n",
    "import re\n",
    "import warnings\n",
    "warnings.filterwarnings(\"ignore\")\n",
    "\n",
    "BASE_DIR = '../input/commonlitreadabilityprize'\n",
    "\n",
    "print(os.listdir(BASE_DIR))"
   ]
  },
  {
   "cell_type": "code",
   "execution_count": 3,
   "id": "afraid-firmware",
   "metadata": {
    "execution": {
     "iopub.execute_input": "2022-01-23T09:25:36.646589Z",
     "iopub.status.busy": "2022-01-23T09:25:36.645952Z",
     "iopub.status.idle": "2022-01-23T09:25:36.765611Z",
     "shell.execute_reply": "2022-01-23T09:25:36.764967Z",
     "shell.execute_reply.started": "2022-01-23T06:11:27.255353Z"
    },
    "papermill": {
     "duration": 0.147231,
     "end_time": "2022-01-23T09:25:36.765750",
     "exception": false,
     "start_time": "2022-01-23T09:25:36.618519",
     "status": "completed"
    },
    "tags": []
   },
   "outputs": [],
   "source": [
    "train = pd.read_csv(os.path.join(BASE_DIR, 'train.csv'))"
   ]
  },
  {
   "cell_type": "code",
   "execution_count": 4,
   "id": "presidential-relief",
   "metadata": {
    "execution": {
     "iopub.execute_input": "2022-01-23T09:25:36.816922Z",
     "iopub.status.busy": "2022-01-23T09:25:36.815926Z",
     "iopub.status.idle": "2022-01-23T09:25:36.851356Z",
     "shell.execute_reply": "2022-01-23T09:25:36.851828Z",
     "shell.execute_reply.started": "2022-01-23T06:11:35.236267Z"
    },
    "papermill": {
     "duration": 0.062485,
     "end_time": "2022-01-23T09:25:36.852005",
     "exception": false,
     "start_time": "2022-01-23T09:25:36.789520",
     "status": "completed"
    },
    "tags": []
   },
   "outputs": [
    {
     "data": {
      "text/html": [
       "<div>\n",
       "<style scoped>\n",
       "    .dataframe tbody tr th:only-of-type {\n",
       "        vertical-align: middle;\n",
       "    }\n",
       "\n",
       "    .dataframe tbody tr th {\n",
       "        vertical-align: top;\n",
       "    }\n",
       "\n",
       "    .dataframe thead th {\n",
       "        text-align: right;\n",
       "    }\n",
       "</style>\n",
       "<table border=\"1\" class=\"dataframe\">\n",
       "  <thead>\n",
       "    <tr style=\"text-align: right;\">\n",
       "      <th></th>\n",
       "      <th>id</th>\n",
       "      <th>url_legal</th>\n",
       "      <th>license</th>\n",
       "      <th>excerpt</th>\n",
       "      <th>target</th>\n",
       "      <th>standard_error</th>\n",
       "    </tr>\n",
       "  </thead>\n",
       "  <tbody>\n",
       "    <tr>\n",
       "      <th>0</th>\n",
       "      <td>c12129c31</td>\n",
       "      <td>NaN</td>\n",
       "      <td>NaN</td>\n",
       "      <td>When the young people returned to the ballroom...</td>\n",
       "      <td>-0.340259</td>\n",
       "      <td>0.464009</td>\n",
       "    </tr>\n",
       "    <tr>\n",
       "      <th>1</th>\n",
       "      <td>85aa80a4c</td>\n",
       "      <td>NaN</td>\n",
       "      <td>NaN</td>\n",
       "      <td>All through dinner time, Mrs. Fayre was somewh...</td>\n",
       "      <td>-0.315372</td>\n",
       "      <td>0.480805</td>\n",
       "    </tr>\n",
       "    <tr>\n",
       "      <th>2</th>\n",
       "      <td>b69ac6792</td>\n",
       "      <td>NaN</td>\n",
       "      <td>NaN</td>\n",
       "      <td>As Roger had predicted, the snow departed as q...</td>\n",
       "      <td>-0.580118</td>\n",
       "      <td>0.476676</td>\n",
       "    </tr>\n",
       "    <tr>\n",
       "      <th>3</th>\n",
       "      <td>dd1000b26</td>\n",
       "      <td>NaN</td>\n",
       "      <td>NaN</td>\n",
       "      <td>And outside before the palace a great garden w...</td>\n",
       "      <td>-1.054013</td>\n",
       "      <td>0.450007</td>\n",
       "    </tr>\n",
       "    <tr>\n",
       "      <th>4</th>\n",
       "      <td>37c1b32fb</td>\n",
       "      <td>NaN</td>\n",
       "      <td>NaN</td>\n",
       "      <td>Once upon a time there were Three Bears who li...</td>\n",
       "      <td>0.247197</td>\n",
       "      <td>0.510845</td>\n",
       "    </tr>\n",
       "    <tr>\n",
       "      <th>...</th>\n",
       "      <td>...</td>\n",
       "      <td>...</td>\n",
       "      <td>...</td>\n",
       "      <td>...</td>\n",
       "      <td>...</td>\n",
       "      <td>...</td>\n",
       "    </tr>\n",
       "    <tr>\n",
       "      <th>2829</th>\n",
       "      <td>25ca8f498</td>\n",
       "      <td>https://sites.ehe.osu.edu/beyondpenguins/files...</td>\n",
       "      <td>CC BY-SA 3.0</td>\n",
       "      <td>When you think of dinosaurs and where they liv...</td>\n",
       "      <td>1.711390</td>\n",
       "      <td>0.646900</td>\n",
       "    </tr>\n",
       "    <tr>\n",
       "      <th>2830</th>\n",
       "      <td>2c26db523</td>\n",
       "      <td>https://en.wikibooks.org/wiki/Wikijunior:The_E...</td>\n",
       "      <td>CC BY-SA 3.0</td>\n",
       "      <td>So what is a solid? Solids are usually hard be...</td>\n",
       "      <td>0.189476</td>\n",
       "      <td>0.535648</td>\n",
       "    </tr>\n",
       "    <tr>\n",
       "      <th>2831</th>\n",
       "      <td>cd19e2350</td>\n",
       "      <td>https://en.wikibooks.org/wiki/Wikijunior:The_E...</td>\n",
       "      <td>CC BY-SA 3.0</td>\n",
       "      <td>The second state of matter we will discuss is ...</td>\n",
       "      <td>0.255209</td>\n",
       "      <td>0.483866</td>\n",
       "    </tr>\n",
       "    <tr>\n",
       "      <th>2832</th>\n",
       "      <td>15e2e9e7a</td>\n",
       "      <td>https://en.wikibooks.org/wiki/Geometry_for_Ele...</td>\n",
       "      <td>CC BY-SA 3.0</td>\n",
       "      <td>Solids are shapes that you can actually touch....</td>\n",
       "      <td>-0.215279</td>\n",
       "      <td>0.514128</td>\n",
       "    </tr>\n",
       "    <tr>\n",
       "      <th>2833</th>\n",
       "      <td>5b990ba77</td>\n",
       "      <td>https://en.wikibooks.org/wiki/Wikijunior:Biolo...</td>\n",
       "      <td>CC BY-SA 3.0</td>\n",
       "      <td>Animals are made of many cells. They eat thing...</td>\n",
       "      <td>0.300779</td>\n",
       "      <td>0.512379</td>\n",
       "    </tr>\n",
       "  </tbody>\n",
       "</table>\n",
       "<p>2834 rows × 6 columns</p>\n",
       "</div>"
      ],
      "text/plain": [
       "             id                                          url_legal  \\\n",
       "0     c12129c31                                                NaN   \n",
       "1     85aa80a4c                                                NaN   \n",
       "2     b69ac6792                                                NaN   \n",
       "3     dd1000b26                                                NaN   \n",
       "4     37c1b32fb                                                NaN   \n",
       "...         ...                                                ...   \n",
       "2829  25ca8f498  https://sites.ehe.osu.edu/beyondpenguins/files...   \n",
       "2830  2c26db523  https://en.wikibooks.org/wiki/Wikijunior:The_E...   \n",
       "2831  cd19e2350  https://en.wikibooks.org/wiki/Wikijunior:The_E...   \n",
       "2832  15e2e9e7a  https://en.wikibooks.org/wiki/Geometry_for_Ele...   \n",
       "2833  5b990ba77  https://en.wikibooks.org/wiki/Wikijunior:Biolo...   \n",
       "\n",
       "           license                                            excerpt  \\\n",
       "0              NaN  When the young people returned to the ballroom...   \n",
       "1              NaN  All through dinner time, Mrs. Fayre was somewh...   \n",
       "2              NaN  As Roger had predicted, the snow departed as q...   \n",
       "3              NaN  And outside before the palace a great garden w...   \n",
       "4              NaN  Once upon a time there were Three Bears who li...   \n",
       "...            ...                                                ...   \n",
       "2829  CC BY-SA 3.0  When you think of dinosaurs and where they liv...   \n",
       "2830  CC BY-SA 3.0  So what is a solid? Solids are usually hard be...   \n",
       "2831  CC BY-SA 3.0  The second state of matter we will discuss is ...   \n",
       "2832  CC BY-SA 3.0  Solids are shapes that you can actually touch....   \n",
       "2833  CC BY-SA 3.0  Animals are made of many cells. They eat thing...   \n",
       "\n",
       "        target  standard_error  \n",
       "0    -0.340259        0.464009  \n",
       "1    -0.315372        0.480805  \n",
       "2    -0.580118        0.476676  \n",
       "3    -1.054013        0.450007  \n",
       "4     0.247197        0.510845  \n",
       "...        ...             ...  \n",
       "2829  1.711390        0.646900  \n",
       "2830  0.189476        0.535648  \n",
       "2831  0.255209        0.483866  \n",
       "2832 -0.215279        0.514128  \n",
       "2833  0.300779        0.512379  \n",
       "\n",
       "[2834 rows x 6 columns]"
      ]
     },
     "execution_count": 4,
     "metadata": {},
     "output_type": "execute_result"
    }
   ],
   "source": [
    "train"
   ]
  },
  {
   "cell_type": "code",
   "execution_count": 5,
   "id": "cordless-dance",
   "metadata": {
    "execution": {
     "iopub.execute_input": "2022-01-23T09:25:36.903084Z",
     "iopub.status.busy": "2022-01-23T09:25:36.902045Z",
     "iopub.status.idle": "2022-01-23T09:25:36.913543Z",
     "shell.execute_reply": "2022-01-23T09:25:36.914075Z",
     "shell.execute_reply.started": "2022-01-23T06:12:35.083678Z"
    },
    "papermill": {
     "duration": 0.038808,
     "end_time": "2022-01-23T09:25:36.914242",
     "exception": false,
     "start_time": "2022-01-23T09:25:36.875434",
     "status": "completed"
    },
    "tags": []
   },
   "outputs": [],
   "source": [
    "# select rows that have urls\n",
    "has_text = train[~train['url_legal'].isnull()]\n",
    "\n",
    "# grab the domain name\n",
    "has_text['domain'] = has_text['url_legal'].apply(lambda x: x.split('/')[2])"
   ]
  },
  {
   "cell_type": "code",
   "execution_count": 6,
   "id": "placed-whole",
   "metadata": {
    "execution": {
     "iopub.execute_input": "2022-01-23T09:25:36.965064Z",
     "iopub.status.busy": "2022-01-23T09:25:36.964072Z",
     "iopub.status.idle": "2022-01-23T09:25:36.976517Z",
     "shell.execute_reply": "2022-01-23T09:25:36.977171Z",
     "shell.execute_reply.started": "2022-01-23T06:12:38.305918Z"
    },
    "papermill": {
     "duration": 0.039579,
     "end_time": "2022-01-23T09:25:36.977343",
     "exception": false,
     "start_time": "2022-01-23T09:25:36.937764",
     "status": "completed"
    },
    "tags": []
   },
   "outputs": [
    {
     "data": {
      "text/plain": [
       "simple.wikipedia.org          196\n",
       "kids.frontiersin.org          191\n",
       "en.wikipedia.org              176\n",
       "www.africanstorybook.org      164\n",
       "www.commonlit.org              41\n",
       "freekidsbooks.org              19\n",
       "www.digitallibrary.io          19\n",
       "en.wikibooks.org                8\n",
       "static.ehe.osu.edu              6\n",
       "drive.google.com                3\n",
       "ukuqonda.co.za                  2\n",
       "www.ck12.org                    2\n",
       "emedia.uen.org                  1\n",
       "sites.ehe.osu.edu               1\n",
       "beyondpenguins.ehe.osu.edu      1\n",
       "Name: url_legal, dtype: int64"
      ]
     },
     "execution_count": 6,
     "metadata": {},
     "output_type": "execute_result"
    }
   ],
   "source": [
    "# list all reference urls by frequency in descending order\n",
    "has_text['url_legal'].apply(lambda x: x.split('/')[2]).value_counts()"
   ]
  },
  {
   "cell_type": "markdown",
   "id": "comparable-package",
   "metadata": {
    "papermill": {
     "duration": 0.023475,
     "end_time": "2022-01-23T09:25:37.024718",
     "exception": false,
     "start_time": "2022-01-23T09:25:37.001243",
     "status": "completed"
    },
    "tags": []
   },
   "source": [
    "| Count | Url |\n",
    "|--- | --- |\n",
    "| 196 | simple.wikipedia.org |  \n",
    "| 191 | kids.frontiersin.org |\n",
    "| 176 | en.wikipedia.org |\n",
    "| 8 | en.wikibooks.org |\n",
    "| 571 | Total |\n",
    "| 95 | Missing | "
   ]
  },
  {
   "cell_type": "code",
   "execution_count": 7,
   "id": "vocational-nickel",
   "metadata": {
    "execution": {
     "iopub.execute_input": "2022-01-23T09:25:37.077251Z",
     "iopub.status.busy": "2022-01-23T09:25:37.076118Z",
     "iopub.status.idle": "2022-01-23T09:25:37.090417Z",
     "shell.execute_reply": "2022-01-23T09:25:37.090924Z",
     "shell.execute_reply.started": "2022-01-23T06:17:48.572194Z"
    },
    "papermill": {
     "duration": 0.042573,
     "end_time": "2022-01-23T09:25:37.091137",
     "exception": false,
     "start_time": "2022-01-23T09:25:37.048564",
     "status": "completed"
    },
    "tags": []
   },
   "outputs": [],
   "source": [
    "def show_html(text):\n",
    "    soup = BeautifulSoup(text, 'html.parser')\n",
    "\n",
    "    words = []\n",
    "\n",
    "    for paragraph in soup.find_all('p'):\n",
    "        if paragraph.sup:\n",
    "            for support in paragraph.find_all('sup'):\n",
    "                support.decompose()\n",
    "        words.append(paragraph.get_text())\n",
    "\n",
    "    return words\n",
    "\n",
    "def clean_newline(soup=''):\n",
    "    return re.sub(r'\\n', '', soup)\n",
    "\n",
    "def clean_http(soup=''):\n",
    "    soup = list(map(lambda x: '' if re.search('http',x) else x, soup))\n",
    "    soup = list(filter(lambda x: x != '', soup))\n",
    "    return soup\n",
    "\n",
    "def clean_frontiersin(soup=''):\n",
    "    soup = list(map(lambda x: '0' if re.search('\\n', x) else x, soup))\n",
    "    soup = list(map(lambda y: '1' if re.search('↑', y) else y, soup))\n",
    "    soup = list(filter(lambda x: x != '0', soup))\n",
    "    soup = list(map(clean_brackets, soup))\n",
    "    soup = list(map(remove_http_url, soup))\n",
    "    try:\n",
    "        soup = soup[:soup.index('1')]\n",
    "        \n",
    "    except Exception as e:\n",
    "        pass\n",
    "    \n",
    "    return soup\n",
    "\n",
    "def remove_copyright(soup=''):\n",
    "    text = ['The authors declare that the research was conducted in the absence of any commercial or financial relationships that could be construed as a potential conflict of interest.',\n",
    "            'The author declares that the research was conducted in the absence of any commercial or financial relationships that could be construed as a potential conflict of interest.']\n",
    "    for t in text:\n",
    "        try:\n",
    "            soup = soup[:soup.index(t)]\n",
    "        except Exception as e:\n",
    "            pass\n",
    "    return soup\n",
    "\n",
    "# remove some artifacts not present in competition data\n",
    "def clean_brackets(text):\n",
    "    cleaned = re.sub(r'\\[([a-zA-Z0-9]+)\\]', '', text)\n",
    "    cleaned = re.sub(r'\\((Figure(s) .+)\\)', '', cleaned)\n",
    "    cleaned = re.sub(r'\\((see Figure .+)\\)', '', cleaned)\n",
    "    cleaned = re.sub(r'\\[([\\w\\d\\s\\W]+)\\]', '', cleaned)\n",
    "    return cleaned\n",
    "\n",
    "def remove_http_url(soup):\n",
    "    soup = re.sub(r\"(?i)\\b((?:https?://|www\\d{0,3}[.]|[a-z0-9.\\-]+[.][a-z]{2,4}/)(?:[^\\s()<>]+|\\(([^\\s()<>]+|(\\([^\\s()<>]+\\)))*\\))+(?:\\(([^\\s()<>]+|(\\([^\\s()<>]+\\)))*\\)|[^\\s`!()\\[\\]{};:'\\\".,<>?«»“”‘’]))\", '', soup)\n",
    "    return soup"
   ]
  },
  {
   "cell_type": "markdown",
   "id": "completed-lighter",
   "metadata": {
    "papermill": {
     "duration": 0.023739,
     "end_time": "2022-01-23T09:25:37.139645",
     "exception": false,
     "start_time": "2022-01-23T09:25:37.115906",
     "status": "completed"
    },
    "tags": []
   },
   "source": [
    "# kids.frontiersin.org"
   ]
  },
  {
   "cell_type": "code",
   "execution_count": 8,
   "id": "technical-riverside",
   "metadata": {
    "execution": {
     "iopub.execute_input": "2022-01-23T09:25:37.191022Z",
     "iopub.status.busy": "2022-01-23T09:25:37.190059Z",
     "iopub.status.idle": "2022-01-23T09:25:37.196299Z",
     "shell.execute_reply": "2022-01-23T09:25:37.196866Z",
     "shell.execute_reply.started": "2022-01-23T06:20:43.733465Z"
    },
    "papermill": {
     "duration": 0.033513,
     "end_time": "2022-01-23T09:25:37.197062",
     "exception": false,
     "start_time": "2022-01-23T09:25:37.163549",
     "status": "completed"
    },
    "tags": []
   },
   "outputs": [],
   "source": [
    "frontier = has_text[has_text['domain'] == 'kids.frontiersin.org'].reset_index(drop=True)"
   ]
  },
  {
   "cell_type": "code",
   "execution_count": 9,
   "id": "specialized-kentucky",
   "metadata": {
    "execution": {
     "iopub.execute_input": "2022-01-23T09:25:37.248204Z",
     "iopub.status.busy": "2022-01-23T09:25:37.247245Z",
     "iopub.status.idle": "2022-01-23T09:27:30.842262Z",
     "shell.execute_reply": "2022-01-23T09:27:30.843189Z",
     "shell.execute_reply.started": "2022-01-23T06:20:45.731645Z"
    },
    "papermill": {
     "duration": 113.622546,
     "end_time": "2022-01-23T09:27:30.843457",
     "exception": false,
     "start_time": "2022-01-23T09:25:37.220911",
     "status": "completed"
    },
    "tags": []
   },
   "outputs": [
    {
     "name": "stdout",
     "output_type": "stream",
     "text": [
      "CPU times: user 3.33 s, sys: 254 ms, total: 3.59 s\n",
      "Wall time: 1min 53s\n"
     ]
    }
   ],
   "source": [
    "%%time\n",
    "frontier_text = frontier['url_legal'].map(requests.get)"
   ]
  },
  {
   "cell_type": "code",
   "execution_count": 10,
   "id": "generous-broadcast",
   "metadata": {
    "execution": {
     "iopub.execute_input": "2022-01-23T09:27:30.932627Z",
     "iopub.status.busy": "2022-01-23T09:27:30.931613Z",
     "iopub.status.idle": "2022-01-23T09:27:40.124973Z",
     "shell.execute_reply": "2022-01-23T09:27:40.125536Z",
     "shell.execute_reply.started": "2022-01-23T06:23:47.563193Z"
    },
    "papermill": {
     "duration": 9.256255,
     "end_time": "2022-01-23T09:27:40.125716",
     "exception": false,
     "start_time": "2022-01-23T09:27:30.869461",
     "status": "completed"
    },
    "tags": []
   },
   "outputs": [],
   "source": [
    "frontier_soup = frontier_text.apply(lambda x: x.text)\n",
    "frontier_soup = frontier_soup.map(show_html)\n",
    "frontier_soup = frontier_soup.map(clean_frontiersin)\n",
    "frontier_soup = frontier_soup.map(remove_copyright)\n",
    "frontier_soup = frontier_soup.map(lambda x: '\\n'.join(x))"
   ]
  },
  {
   "cell_type": "code",
   "execution_count": 11,
   "id": "automated-plastic",
   "metadata": {
    "execution": {
     "iopub.execute_input": "2022-01-23T09:27:40.177713Z",
     "iopub.status.busy": "2022-01-23T09:27:40.177061Z",
     "iopub.status.idle": "2022-01-23T09:27:40.181144Z",
     "shell.execute_reply": "2022-01-23T09:27:40.181627Z",
     "shell.execute_reply.started": "2022-01-23T06:23:57.844137Z"
    },
    "papermill": {
     "duration": 0.031578,
     "end_time": "2022-01-23T09:27:40.181815",
     "exception": false,
     "start_time": "2022-01-23T09:27:40.150237",
     "status": "completed"
    },
    "tags": []
   },
   "outputs": [],
   "source": [
    "frontier['external_text'] = frontier_soup"
   ]
  },
  {
   "cell_type": "markdown",
   "id": "polyphonic-birth",
   "metadata": {
    "papermill": {
     "duration": 0.023802,
     "end_time": "2022-01-23T09:27:40.230354",
     "exception": false,
     "start_time": "2022-01-23T09:27:40.206552",
     "status": "completed"
    },
    "tags": []
   },
   "source": [
    "# en.wikibooks.org"
   ]
  },
  {
   "cell_type": "code",
   "execution_count": 12,
   "id": "imported-insulation",
   "metadata": {
    "execution": {
     "iopub.execute_input": "2022-01-23T09:27:40.281737Z",
     "iopub.status.busy": "2022-01-23T09:27:40.281153Z",
     "iopub.status.idle": "2022-01-23T09:27:40.285824Z",
     "shell.execute_reply": "2022-01-23T09:27:40.286391Z"
    },
    "papermill": {
     "duration": 0.032189,
     "end_time": "2022-01-23T09:27:40.286563",
     "exception": false,
     "start_time": "2022-01-23T09:27:40.254374",
     "status": "completed"
    },
    "tags": []
   },
   "outputs": [],
   "source": [
    "wikibooks = has_text[has_text['domain'] == 'en.wikibooks.org'].reset_index(drop=True)"
   ]
  },
  {
   "cell_type": "code",
   "execution_count": 13,
   "id": "orange-tanzania",
   "metadata": {
    "execution": {
     "iopub.execute_input": "2022-01-23T09:27:40.340110Z",
     "iopub.status.busy": "2022-01-23T09:27:40.339459Z",
     "iopub.status.idle": "2022-01-23T09:27:43.505208Z",
     "shell.execute_reply": "2022-01-23T09:27:43.505694Z"
    },
    "papermill": {
     "duration": 3.194592,
     "end_time": "2022-01-23T09:27:43.505876",
     "exception": false,
     "start_time": "2022-01-23T09:27:40.311284",
     "status": "completed"
    },
    "tags": []
   },
   "outputs": [
    {
     "name": "stdout",
     "output_type": "stream",
     "text": [
      "CPU times: user 115 ms, sys: 9.97 ms, total: 125 ms\n",
      "Wall time: 3.16 s\n"
     ]
    }
   ],
   "source": [
    "%%time\n",
    "wikibooks_text = wikibooks['url_legal'].map(requests.get)"
   ]
  },
  {
   "cell_type": "code",
   "execution_count": 14,
   "id": "decimal-vatican",
   "metadata": {
    "execution": {
     "iopub.execute_input": "2022-01-23T09:27:43.585941Z",
     "iopub.status.busy": "2022-01-23T09:27:43.580847Z",
     "iopub.status.idle": "2022-01-23T09:27:43.756685Z",
     "shell.execute_reply": "2022-01-23T09:27:43.755946Z"
    },
    "papermill": {
     "duration": 0.225668,
     "end_time": "2022-01-23T09:27:43.756830",
     "exception": false,
     "start_time": "2022-01-23T09:27:43.531162",
     "status": "completed"
    },
    "tags": []
   },
   "outputs": [],
   "source": [
    "wikibooks_soup = wikibooks_text.apply(lambda x: x.text)\n",
    "wikibooks_soup = wikibooks_soup.map(show_html)"
   ]
  },
  {
   "cell_type": "code",
   "execution_count": 15,
   "id": "aware-shoot",
   "metadata": {
    "execution": {
     "iopub.execute_input": "2022-01-23T09:27:43.810086Z",
     "iopub.status.busy": "2022-01-23T09:27:43.809436Z",
     "iopub.status.idle": "2022-01-23T09:27:43.819215Z",
     "shell.execute_reply": "2022-01-23T09:27:43.819723Z"
    },
    "papermill": {
     "duration": 0.037963,
     "end_time": "2022-01-23T09:27:43.819899",
     "exception": false,
     "start_time": "2022-01-23T09:27:43.781936",
     "status": "completed"
    },
    "tags": []
   },
   "outputs": [],
   "source": [
    "wikibooks_soup[0] = list(filter(lambda x: x != '\\n', clean_http(wikibooks_soup[0])[:-5]))\n",
    "wikibooks_soup[1] = list(filter(lambda x: x != '\\n',clean_http(wikibooks_soup[1])[:-1]))\n",
    "wikibooks_soup[2] = list(filter(lambda x: x != '\\n', wikibooks_soup[2]))\n",
    "wikibooks_soup[6] = wikibooks_soup[6][:7] + wikibooks_soup[6][9:]\n",
    "wikibooks_soup = wikibooks_soup.map(lambda x: ''.join(x))"
   ]
  },
  {
   "cell_type": "code",
   "execution_count": 16,
   "id": "silver-person",
   "metadata": {
    "execution": {
     "iopub.execute_input": "2022-01-23T09:27:43.873697Z",
     "iopub.status.busy": "2022-01-23T09:27:43.873102Z",
     "iopub.status.idle": "2022-01-23T09:27:43.877091Z",
     "shell.execute_reply": "2022-01-23T09:27:43.877672Z"
    },
    "papermill": {
     "duration": 0.032669,
     "end_time": "2022-01-23T09:27:43.877838",
     "exception": false,
     "start_time": "2022-01-23T09:27:43.845169",
     "status": "completed"
    },
    "tags": []
   },
   "outputs": [],
   "source": [
    "wikibooks['external_text'] = wikibooks_soup"
   ]
  },
  {
   "cell_type": "markdown",
   "id": "permanent-happiness",
   "metadata": {
    "papermill": {
     "duration": 0.025361,
     "end_time": "2022-01-23T09:27:43.928235",
     "exception": false,
     "start_time": "2022-01-23T09:27:43.902874",
     "status": "completed"
    },
    "tags": []
   },
   "source": [
    "# simple.wikipedia.org"
   ]
  },
  {
   "cell_type": "code",
   "execution_count": 17,
   "id": "scenic-angola",
   "metadata": {
    "execution": {
     "iopub.execute_input": "2022-01-23T09:27:43.982226Z",
     "iopub.status.busy": "2022-01-23T09:27:43.981531Z",
     "iopub.status.idle": "2022-01-23T09:27:43.992931Z",
     "shell.execute_reply": "2022-01-23T09:27:43.993442Z"
    },
    "papermill": {
     "duration": 0.040354,
     "end_time": "2022-01-23T09:27:43.993624",
     "exception": false,
     "start_time": "2022-01-23T09:27:43.953270",
     "status": "completed"
    },
    "tags": []
   },
   "outputs": [],
   "source": [
    "def show_html_wiki(text):\n",
    "    soup = BeautifulSoup(text, 'html.parser')\n",
    "    words = []\n",
    "    \n",
    "    # remove tables\n",
    "    for table in soup.find_all('table'):\n",
    "        table.decompose()\n",
    "    \n",
    "    # remove spans\n",
    "    for span in soup.find_all('span'):\n",
    "        span.decompose()\n",
    "        \n",
    "    # remove un-ordered lists\n",
    "    for ul in soup.find_all('ul'):\n",
    "        ul.decompose()\n",
    "        \n",
    "    # remove ordered lists\n",
    "    for ol in soup.find_all('ol'):\n",
    "        ol.decompose()\n",
    "\n",
    "    for paragraph in soup.find_all('p'):\n",
    "        # remove sup tags\n",
    "        if paragraph.sup:\n",
    "            for support in paragraph.find_all('sup'):\n",
    "                support.decompose()\n",
    "        cleaned = remove_ufeff(paragraph.get_text())\n",
    "        cleaned = remove_xa0(cleaned)\n",
    "        words.append(cleaned)\n",
    "    \n",
    "    return words\n",
    "\n",
    "#  remove artifact from using requests library on wikipedia\n",
    "def remove_ufeff(text):\n",
    "    return re.sub(r'\\ufeff', '', text)\n",
    "\n",
    "# remove another artifact\n",
    "def remove_xa0(text):\n",
    "    return re.sub(r'\\xa0', '', text)\n",
    "\n",
    "def filter_newline(text):\n",
    "    text = text.split('\\n')\n",
    "    return '\\n'.join(list(filter(lambda x: x != \"\", text)))"
   ]
  },
  {
   "cell_type": "code",
   "execution_count": 18,
   "id": "coordinate-sweet",
   "metadata": {
    "execution": {
     "iopub.execute_input": "2022-01-23T09:27:44.050476Z",
     "iopub.status.busy": "2022-01-23T09:27:44.049812Z",
     "iopub.status.idle": "2022-01-23T09:27:44.053047Z",
     "shell.execute_reply": "2022-01-23T09:27:44.052551Z"
    },
    "papermill": {
     "duration": 0.034173,
     "end_time": "2022-01-23T09:27:44.053193",
     "exception": false,
     "start_time": "2022-01-23T09:27:44.019020",
     "status": "completed"
    },
    "tags": []
   },
   "outputs": [],
   "source": [
    "simple_wiki = has_text[has_text['domain'] == 'simple.wikipedia.org'].reset_index(drop=True)"
   ]
  },
  {
   "cell_type": "code",
   "execution_count": 19,
   "id": "broadband-album",
   "metadata": {
    "execution": {
     "iopub.execute_input": "2022-01-23T09:27:44.111520Z",
     "iopub.status.busy": "2022-01-23T09:27:44.110124Z",
     "iopub.status.idle": "2022-01-23T09:29:11.654556Z",
     "shell.execute_reply": "2022-01-23T09:29:11.655121Z"
    },
    "papermill": {
     "duration": 87.576861,
     "end_time": "2022-01-23T09:29:11.655309",
     "exception": false,
     "start_time": "2022-01-23T09:27:44.078448",
     "status": "completed"
    },
    "tags": []
   },
   "outputs": [
    {
     "name": "stdout",
     "output_type": "stream",
     "text": [
      "CPU times: user 3.18 s, sys: 181 ms, total: 3.36 s\n",
      "Wall time: 1min 27s\n"
     ]
    }
   ],
   "source": [
    "%%time\n",
    "simple_wiki_text = simple_wiki['url_legal'].map(requests.get)"
   ]
  },
  {
   "cell_type": "code",
   "execution_count": 20,
   "id": "designing-sharp",
   "metadata": {
    "execution": {
     "iopub.execute_input": "2022-01-23T09:29:11.757752Z",
     "iopub.status.busy": "2022-01-23T09:29:11.752635Z",
     "iopub.status.idle": "2022-01-23T09:29:23.076567Z",
     "shell.execute_reply": "2022-01-23T09:29:23.075955Z"
    },
    "papermill": {
     "duration": 11.395577,
     "end_time": "2022-01-23T09:29:23.076721",
     "exception": false,
     "start_time": "2022-01-23T09:29:11.681144",
     "status": "completed"
    },
    "tags": []
   },
   "outputs": [],
   "source": [
    "simple_wiki_soup = simple_wiki_text.apply(lambda x: x.text)\n",
    "simple_wiki_soup = simple_wiki_soup.map(show_html_wiki)\n",
    "simple_wiki_soup = simple_wiki_soup.map(lambda x: ''.join(x))\n",
    "simple_wiki_soup = simple_wiki_soup.map(filter_newline)"
   ]
  },
  {
   "cell_type": "code",
   "execution_count": 21,
   "id": "colonial-madrid",
   "metadata": {
    "execution": {
     "iopub.execute_input": "2022-01-23T09:29:23.131624Z",
     "iopub.status.busy": "2022-01-23T09:29:23.130974Z",
     "iopub.status.idle": "2022-01-23T09:29:23.135211Z",
     "shell.execute_reply": "2022-01-23T09:29:23.135716Z"
    },
    "papermill": {
     "duration": 0.032987,
     "end_time": "2022-01-23T09:29:23.135880",
     "exception": false,
     "start_time": "2022-01-23T09:29:23.102893",
     "status": "completed"
    },
    "tags": []
   },
   "outputs": [],
   "source": [
    "simple_wiki['external_text'] = simple_wiki_soup"
   ]
  },
  {
   "cell_type": "markdown",
   "id": "early-effect",
   "metadata": {
    "papermill": {
     "duration": 0.025752,
     "end_time": "2022-01-23T09:29:23.187755",
     "exception": false,
     "start_time": "2022-01-23T09:29:23.162003",
     "status": "completed"
    },
    "tags": []
   },
   "source": [
    "# en.wikipedia.org"
   ]
  },
  {
   "cell_type": "code",
   "execution_count": 22,
   "id": "accepting-machinery",
   "metadata": {
    "execution": {
     "iopub.execute_input": "2022-01-23T09:29:23.242470Z",
     "iopub.status.busy": "2022-01-23T09:29:23.241854Z",
     "iopub.status.idle": "2022-01-23T09:29:23.246784Z",
     "shell.execute_reply": "2022-01-23T09:29:23.247288Z"
    },
    "papermill": {
     "duration": 0.033799,
     "end_time": "2022-01-23T09:29:23.247460",
     "exception": false,
     "start_time": "2022-01-23T09:29:23.213661",
     "status": "completed"
    },
    "tags": []
   },
   "outputs": [],
   "source": [
    "wiki = has_text[has_text['domain'] == 'en.wikipedia.org'].reset_index(drop=True)"
   ]
  },
  {
   "cell_type": "code",
   "execution_count": 23,
   "id": "cordless-indonesia",
   "metadata": {
    "execution": {
     "iopub.execute_input": "2022-01-23T09:29:23.302780Z",
     "iopub.status.busy": "2022-01-23T09:29:23.302178Z",
     "iopub.status.idle": "2022-01-23T09:30:53.536466Z",
     "shell.execute_reply": "2022-01-23T09:30:53.537007Z"
    },
    "papermill": {
     "duration": 90.263422,
     "end_time": "2022-01-23T09:30:53.537190",
     "exception": false,
     "start_time": "2022-01-23T09:29:23.273768",
     "status": "completed"
    },
    "tags": []
   },
   "outputs": [
    {
     "name": "stdout",
     "output_type": "stream",
     "text": [
      "CPU times: user 3.24 s, sys: 207 ms, total: 3.45 s\n",
      "Wall time: 1min 30s\n"
     ]
    }
   ],
   "source": [
    "%%time\n",
    "wiki_text = wiki['url_legal'].map(requests.get)"
   ]
  },
  {
   "cell_type": "code",
   "execution_count": 24,
   "id": "corresponding-lunch",
   "metadata": {
    "execution": {
     "iopub.execute_input": "2022-01-23T09:30:53.593353Z",
     "iopub.status.busy": "2022-01-23T09:30:53.592704Z",
     "iopub.status.idle": "2022-01-23T09:31:36.912686Z",
     "shell.execute_reply": "2022-01-23T09:31:36.911966Z"
    },
    "papermill": {
     "duration": 43.349148,
     "end_time": "2022-01-23T09:31:36.912828",
     "exception": false,
     "start_time": "2022-01-23T09:30:53.563680",
     "status": "completed"
    },
    "tags": []
   },
   "outputs": [],
   "source": [
    "wiki_soup = wiki_text.apply(lambda x: x.text)\n",
    "wiki_soup = wiki_soup.map(show_html_wiki)\n",
    "wiki_soup = wiki_soup.map(lambda x: ''.join(x))\n",
    "wiki_soup = wiki_soup.map(filter_newline)"
   ]
  },
  {
   "cell_type": "code",
   "execution_count": 25,
   "id": "aging-excitement",
   "metadata": {
    "execution": {
     "iopub.execute_input": "2022-01-23T09:31:36.970024Z",
     "iopub.status.busy": "2022-01-23T09:31:36.969396Z",
     "iopub.status.idle": "2022-01-23T09:31:36.973236Z",
     "shell.execute_reply": "2022-01-23T09:31:36.973682Z"
    },
    "papermill": {
     "duration": 0.033976,
     "end_time": "2022-01-23T09:31:36.973849",
     "exception": false,
     "start_time": "2022-01-23T09:31:36.939873",
     "status": "completed"
    },
    "tags": []
   },
   "outputs": [],
   "source": [
    "wiki['external_text'] = wiki_soup"
   ]
  },
  {
   "cell_type": "code",
   "execution_count": 26,
   "id": "australian-dependence",
   "metadata": {
    "execution": {
     "iopub.execute_input": "2022-01-23T09:31:37.030963Z",
     "iopub.status.busy": "2022-01-23T09:31:37.030362Z",
     "iopub.status.idle": "2022-01-23T09:31:37.421059Z",
     "shell.execute_reply": "2022-01-23T09:31:37.420523Z"
    },
    "papermill": {
     "duration": 0.420434,
     "end_time": "2022-01-23T09:31:37.421205",
     "exception": false,
     "start_time": "2022-01-23T09:31:37.000771",
     "status": "completed"
    },
    "tags": []
   },
   "outputs": [
    {
     "data": {
      "text/html": [
       "<div>\n",
       "<style scoped>\n",
       "    .dataframe tbody tr th:only-of-type {\n",
       "        vertical-align: middle;\n",
       "    }\n",
       "\n",
       "    .dataframe tbody tr th {\n",
       "        vertical-align: top;\n",
       "    }\n",
       "\n",
       "    .dataframe thead th {\n",
       "        text-align: right;\n",
       "    }\n",
       "</style>\n",
       "<table border=\"1\" class=\"dataframe\">\n",
       "  <thead>\n",
       "    <tr style=\"text-align: right;\">\n",
       "      <th></th>\n",
       "      <th>id</th>\n",
       "      <th>url_legal</th>\n",
       "      <th>license</th>\n",
       "      <th>excerpt</th>\n",
       "      <th>target</th>\n",
       "      <th>standard_error</th>\n",
       "      <th>domain</th>\n",
       "      <th>external_text</th>\n",
       "    </tr>\n",
       "  </thead>\n",
       "  <tbody>\n",
       "    <tr>\n",
       "      <th>0</th>\n",
       "      <td>0d3a8f33b</td>\n",
       "      <td>https://en.wikipedia.org/wiki/Big_data</td>\n",
       "      <td>CC BY-SA 3.0</td>\n",
       "      <td>Big data is a term for data sets that are so l...</td>\n",
       "      <td>-1.634185</td>\n",
       "      <td>0.517197</td>\n",
       "      <td>en.wikipedia.org</td>\n",
       "      <td>Big data is a field that treats ways to analyz...</td>\n",
       "    </tr>\n",
       "    <tr>\n",
       "      <th>1</th>\n",
       "      <td>7073d1ef3</td>\n",
       "      <td>https://en.wikipedia.org/wiki/Biodiesel</td>\n",
       "      <td>CC BY-SA 3.0</td>\n",
       "      <td>Biodiesel can also be used as a heating fuel i...</td>\n",
       "      <td>-2.492674</td>\n",
       "      <td>0.521320</td>\n",
       "      <td>en.wikipedia.org</td>\n",
       "      <td>Biodiesel is a form of diesel fuel derived fro...</td>\n",
       "    </tr>\n",
       "    <tr>\n",
       "      <th>2</th>\n",
       "      <td>e83e2cc69</td>\n",
       "      <td>https://en.wikipedia.org/wiki/Biodiversity</td>\n",
       "      <td>CC BY-SA 3.0</td>\n",
       "      <td>Biodiversity, a contraction of \"biological div...</td>\n",
       "      <td>-1.719896</td>\n",
       "      <td>0.473570</td>\n",
       "      <td>en.wikipedia.org</td>\n",
       "      <td>Biodiversity is the biological variety and var...</td>\n",
       "    </tr>\n",
       "    <tr>\n",
       "      <th>3</th>\n",
       "      <td>e4d810c98</td>\n",
       "      <td>https://en.wikipedia.org/wiki/Biotechnology</td>\n",
       "      <td>CC BY-SA 3.0</td>\n",
       "      <td>Although not normally what first comes to mind...</td>\n",
       "      <td>-2.112264</td>\n",
       "      <td>0.504813</td>\n",
       "      <td>en.wikipedia.org</td>\n",
       "      <td>Biotechnology is a broad area of biology, invo...</td>\n",
       "    </tr>\n",
       "    <tr>\n",
       "      <th>4</th>\n",
       "      <td>688e3c808</td>\n",
       "      <td>https://en.wikipedia.org/wiki/Bitcoin</td>\n",
       "      <td>CC BY-SA 3.0</td>\n",
       "      <td>Bitcoin is a digital asset and a payment syste...</td>\n",
       "      <td>-1.561801</td>\n",
       "      <td>0.468540</td>\n",
       "      <td>en.wikipedia.org</td>\n",
       "      <td>Bitcoin (₿) is a decentralized digital currenc...</td>\n",
       "    </tr>\n",
       "    <tr>\n",
       "      <th>...</th>\n",
       "      <td>...</td>\n",
       "      <td>...</td>\n",
       "      <td>...</td>\n",
       "      <td>...</td>\n",
       "      <td>...</td>\n",
       "      <td>...</td>\n",
       "      <td>...</td>\n",
       "      <td>...</td>\n",
       "    </tr>\n",
       "    <tr>\n",
       "      <th>186</th>\n",
       "      <td>465d65831</td>\n",
       "      <td>https://kids.frontiersin.org/article/10.3389/f...</td>\n",
       "      <td>CC BY 4.0</td>\n",
       "      <td>Researchers around the world are spending more...</td>\n",
       "      <td>0.574607</td>\n",
       "      <td>0.508896</td>\n",
       "      <td>kids.frontiersin.org</td>\n",
       "      <td>Is it important to have friends? Why do we enj...</td>\n",
       "    </tr>\n",
       "    <tr>\n",
       "      <th>187</th>\n",
       "      <td>6fc3d6ef3</td>\n",
       "      <td>https://kids.frontiersin.org/article/10.3389/f...</td>\n",
       "      <td>CC BY 4.0</td>\n",
       "      <td>There are numerous experimental studies using ...</td>\n",
       "      <td>-0.842189</td>\n",
       "      <td>0.533197</td>\n",
       "      <td>kids.frontiersin.org</td>\n",
       "      <td>When I was a kid, I thought of going to school...</td>\n",
       "    </tr>\n",
       "    <tr>\n",
       "      <th>188</th>\n",
       "      <td>389343d57</td>\n",
       "      <td>https://kids.frontiersin.org/article/10.3389/f...</td>\n",
       "      <td>CC BY 4.0</td>\n",
       "      <td>Described in the scientific literature more th...</td>\n",
       "      <td>-0.634987</td>\n",
       "      <td>0.490213</td>\n",
       "      <td>kids.frontiersin.org</td>\n",
       "      <td>Have you ever felt left out, isolated, rejecte...</td>\n",
       "    </tr>\n",
       "    <tr>\n",
       "      <th>189</th>\n",
       "      <td>9eea14ccb</td>\n",
       "      <td>https://kids.frontiersin.org/article/10.3389/f...</td>\n",
       "      <td>CC BY 4.0</td>\n",
       "      <td>Just as wildebeest are the main grazers of the...</td>\n",
       "      <td>-2.459246</td>\n",
       "      <td>0.502968</td>\n",
       "      <td>kids.frontiersin.org</td>\n",
       "      <td>Copepods are amongst the most abundant animals...</td>\n",
       "    </tr>\n",
       "    <tr>\n",
       "      <th>190</th>\n",
       "      <td>075672d6f</td>\n",
       "      <td>https://kids.frontiersin.org/article/10.3389/f...</td>\n",
       "      <td>CC BY 4.0</td>\n",
       "      <td>Executive functions are thinking abilities tha...</td>\n",
       "      <td>-0.949230</td>\n",
       "      <td>0.530305</td>\n",
       "      <td>kids.frontiersin.org</td>\n",
       "      <td>Have you ever felt “groggy” after hitting your...</td>\n",
       "    </tr>\n",
       "  </tbody>\n",
       "</table>\n",
       "<p>571 rows × 8 columns</p>\n",
       "</div>"
      ],
      "text/plain": [
       "            id                                          url_legal  \\\n",
       "0    0d3a8f33b             https://en.wikipedia.org/wiki/Big_data   \n",
       "1    7073d1ef3            https://en.wikipedia.org/wiki/Biodiesel   \n",
       "2    e83e2cc69         https://en.wikipedia.org/wiki/Biodiversity   \n",
       "3    e4d810c98        https://en.wikipedia.org/wiki/Biotechnology   \n",
       "4    688e3c808              https://en.wikipedia.org/wiki/Bitcoin   \n",
       "..         ...                                                ...   \n",
       "186  465d65831  https://kids.frontiersin.org/article/10.3389/f...   \n",
       "187  6fc3d6ef3  https://kids.frontiersin.org/article/10.3389/f...   \n",
       "188  389343d57  https://kids.frontiersin.org/article/10.3389/f...   \n",
       "189  9eea14ccb  https://kids.frontiersin.org/article/10.3389/f...   \n",
       "190  075672d6f  https://kids.frontiersin.org/article/10.3389/f...   \n",
       "\n",
       "          license                                            excerpt  \\\n",
       "0    CC BY-SA 3.0  Big data is a term for data sets that are so l...   \n",
       "1    CC BY-SA 3.0  Biodiesel can also be used as a heating fuel i...   \n",
       "2    CC BY-SA 3.0  Biodiversity, a contraction of \"biological div...   \n",
       "3    CC BY-SA 3.0  Although not normally what first comes to mind...   \n",
       "4    CC BY-SA 3.0  Bitcoin is a digital asset and a payment syste...   \n",
       "..            ...                                                ...   \n",
       "186     CC BY 4.0  Researchers around the world are spending more...   \n",
       "187     CC BY 4.0  There are numerous experimental studies using ...   \n",
       "188     CC BY 4.0  Described in the scientific literature more th...   \n",
       "189     CC BY 4.0  Just as wildebeest are the main grazers of the...   \n",
       "190     CC BY 4.0  Executive functions are thinking abilities tha...   \n",
       "\n",
       "       target  standard_error                domain  \\\n",
       "0   -1.634185        0.517197      en.wikipedia.org   \n",
       "1   -2.492674        0.521320      en.wikipedia.org   \n",
       "2   -1.719896        0.473570      en.wikipedia.org   \n",
       "3   -2.112264        0.504813      en.wikipedia.org   \n",
       "4   -1.561801        0.468540      en.wikipedia.org   \n",
       "..        ...             ...                   ...   \n",
       "186  0.574607        0.508896  kids.frontiersin.org   \n",
       "187 -0.842189        0.533197  kids.frontiersin.org   \n",
       "188 -0.634987        0.490213  kids.frontiersin.org   \n",
       "189 -2.459246        0.502968  kids.frontiersin.org   \n",
       "190 -0.949230        0.530305  kids.frontiersin.org   \n",
       "\n",
       "                                         external_text  \n",
       "0    Big data is a field that treats ways to analyz...  \n",
       "1    Biodiesel is a form of diesel fuel derived fro...  \n",
       "2    Biodiversity is the biological variety and var...  \n",
       "3    Biotechnology is a broad area of biology, invo...  \n",
       "4    Bitcoin (₿) is a decentralized digital currenc...  \n",
       "..                                                 ...  \n",
       "186  Is it important to have friends? Why do we enj...  \n",
       "187  When I was a kid, I thought of going to school...  \n",
       "188  Have you ever felt left out, isolated, rejecte...  \n",
       "189  Copepods are amongst the most abundant animals...  \n",
       "190  Have you ever felt “groggy” after hitting your...  \n",
       "\n",
       "[571 rows x 8 columns]"
      ]
     },
     "execution_count": 26,
     "metadata": {},
     "output_type": "execute_result"
    }
   ],
   "source": [
    "external = pd.concat([wiki, simple_wiki, wikibooks, frontier])\n",
    "external.to_csv('external.csv', index=False)\n",
    "external"
   ]
  },
  {
   "cell_type": "markdown",
   "id": "registered-first",
   "metadata": {
    "papermill": {
     "duration": 0.027596,
     "end_time": "2022-01-23T09:31:37.476702",
     "exception": false,
     "start_time": "2022-01-23T09:31:37.449106",
     "status": "completed"
    },
    "tags": []
   },
   "source": []
  }
 ],
 "metadata": {
  "kernelspec": {
   "display_name": "Python 3",
   "language": "python",
   "name": "python3"
  },
  "language_info": {
   "codemirror_mode": {
    "name": "ipython",
    "version": 3
   },
   "file_extension": ".py",
   "mimetype": "text/x-python",
   "name": "python",
   "nbconvert_exporter": "python",
   "pygments_lexer": "ipython3",
   "version": "3.7.10"
  },
  "papermill": {
   "default_parameters": {},
   "duration": 381.893122,
   "end_time": "2022-01-23T09:31:38.776966",
   "environment_variables": {},
   "exception": null,
   "input_path": "__notebook__.ipynb",
   "output_path": "__notebook__.ipynb",
   "parameters": {},
   "start_time": "2022-01-23T09:25:16.883844",
   "version": "2.3.3"
  }
 },
 "nbformat": 4,
 "nbformat_minor": 5
}
